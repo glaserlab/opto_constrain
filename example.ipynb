{
 "cells": [
  {
   "cell_type": "code",
   "execution_count": 16,
   "id": "6e06b3a7-3564-48a1-acf0-fd55cc227bae",
   "metadata": {},
   "outputs": [
    {
     "name": "stdout",
     "output_type": "stream",
     "text": [
      "The autoreload extension is already loaded. To reload it, use:\n",
      "  %reload_ext autoreload\n"
     ]
    }
   ],
   "source": [
    "import numpy as np\n",
    "from src.LinModel import *\n",
    "from src.analysis import *\n",
    "from src.regression import *\n",
    "from src.utils import gen_utils\n",
    "from src.plotter import *\n",
    "from src.CURBD.CurbdModel import *\n",
    "from itertools import product\n",
    "from tqdm.notebook import tqdm\n",
    "\n",
    "%load_ext autoreload \n",
    "%autoreload 2\n",
    "%matplotlib widget"
   ]
  },
  {
   "cell_type": "markdown",
   "id": "b7cf2646-1e3e-4121-8d7e-484d37227e7a",
   "metadata": {},
   "source": [
    "# Linear Regularization Sweep, Actual Recording"
   ]
  },
  {
   "cell_type": "code",
   "execution_count": 17,
   "id": "9c9dc88c-d624-41e8-8c46-d5554aa085fe",
   "metadata": {},
   "outputs": [],
   "source": [
    "session = pload('data/co9_LinModel.pickle') #load mouse session"
   ]
  },
  {
   "cell_type": "markdown",
   "id": "6726ed23-56de-442d-b829-ad50cb960a75",
   "metadata": {},
   "source": [
    "## split up data segments for N and PN models"
   ]
  },
  {
   "cell_type": "code",
   "execution_count": 18,
   "id": "5b200dc6-aedc-4f1a-9899-15e236a4966f",
   "metadata": {},
   "outputs": [],
   "source": [
    "post=45\n",
    "binsize=10\n",
    "nlags=5\n",
    "pre=binsize*nlags\n",
    "num_PCs=20\n",
    "sw_weight=50\n",
    "\n",
    "random_state=1\n",
    "rng = np.random.default_rng(random_state)\n",
    "\n",
    "if num_PCs is None:\n",
    "    num_region1 = session.num_region1\n",
    "else:\n",
    "    num_region1 = num_PCs\n",
    "\n",
    "\n",
    "laser_bounds, ctrl_bounds = session.adjustLaserBounds(pre=pre, post=post)\n",
    "train_lasers, test_lasers = train_test_split(laser_bounds, train_size=.8,\n",
    "        random_state=random_state)\n",
    "omit_lasers, _ = session.adjustLaserBounds(pre=0, post=300)\n",
    "temp_mask = rng.choice(len(ctrl_bounds), len(test_lasers), replace=False)\n",
    "ctrl_bounds_subsamp = ctrl_bounds[temp_mask, :]\n",
    "both_bounds = np.vstack((test_lasers, ctrl_bounds_subsamp))\n",
    "train_lasers = np.sort(train_lasers, axis=0)\n",
    "test_lasers = np.sort(test_lasers, axis=0)\n",
    "both_bounds = np.sort(both_bounds, axis=0)\n",
    "omitLaserBounds= omitBoundInBounds(session.climbing_bounds, test_lasers)\n",
    "omitLaserBounds = omitBoundInBounds(omitLaserBounds, ctrl_bounds)\n",
    "omitLaserBounds = minimumBoundSize(omitLaserBounds, min_size = post+pre) #segments for PN models\n",
    "justClimbs = omitBoundInBounds(session.climbing_bounds, omit_lasers)\n",
    "justClimbs = omitBoundInBounds(justClimbs, ctrl_bounds)\n",
    "justClimbs = minimumBoundSize(justClimbs, min_size=post+pre) #segments for N models"
   ]
  },
  {
   "cell_type": "markdown",
   "id": "4fb1f752-b8b7-4b1d-955a-30b646f1aad1",
   "metadata": {},
   "source": [
    "## generate train and test data"
   ]
  },
  {
   "cell_type": "code",
   "execution_count": null,
   "id": "8f92a32b-aa71-49d9-8dfc-9db267fdc1e9",
   "metadata": {},
   "outputs": [
    {
     "name": "stdout",
     "output_type": "stream",
     "text": [
      "fitting and applyingPCA\n",
      "fitting and applyingPCA\n"
     ]
    }
   ],
   "source": [
    "sws = session.getSWs(bigBound=omitLaserBounds, smallBound=train_lasers,\n",
    "        sw_weight=sw_weight, binsize=binsize, nlags=nlags)\n",
    "\n",
    "(X_n, Y_n), n_PCs = session.generate_trainset(justClimbs, binsize=binsize,\n",
    "        nlags=nlags, num_PCs=num_PCs)\n",
    "\n",
    "(X_pn, Y_pn), pn_PCs = session.generate_trainset(omitLaserBounds, binsize=binsize,\n",
    "        nlags=nlags, num_PCs=num_PCs)\n",
    "\n",
    "\n",
    "X_nt, Y_nt = session.generate_testset(bounds=ctrl_bounds, binsize=binsize,\n",
    "    nlags=nlags, PCAObjs = n_PCs)\n",
    "X_pnt, Y_pnt = session.generate_testset(bounds=both_bounds, binsize=binsize,\n",
    "    nlags=nlags, PCAObjs = pn_PCs)"
   ]
  },
  {
   "cell_type": "markdown",
   "id": "9ae90321-acb5-42f1-a858-b5897791c0f7",
   "metadata": {},
   "source": [
    "## generate regularization parameters"
   ]
  },
  {
   "cell_type": "code",
   "execution_count": null,
   "id": "4de05c8b-6ecb-46fc-b31e-07e610409e78",
   "metadata": {},
   "outputs": [],
   "source": [
    "ustream = np.logspace(4,6,8)\n",
    "dstream = np.logspace(4,6,8)\n",
    "reg_combos = list(product(dstream, ustream))"
   ]
  },
  {
   "cell_type": "markdown",
   "id": "df2d97be-2147-4c24-a9b3-d252f87d47fc",
   "metadata": {},
   "source": [
    "## start sweep, should be <2 minutes to run"
   ]
  },
  {
   "cell_type": "code",
   "execution_count": null,
   "id": "0ecc2451-9cf1-4d30-ad7e-9d5e8863138f",
   "metadata": {},
   "outputs": [],
   "source": [
    "n_rqs=[]\n",
    "n_r2s=[]\n",
    "\n",
    "pn_rqs=[]\n",
    "pn_r2s=[]\n",
    "for reg in tqdm(reg_combos):\n",
    "    c = generate_sepreg(reg, X_n, nlags=nlags, num_region1=num_region1)\n",
    "    h_n = train_wiener_filter(X_n, Y_n, c=c,sw=None, display=False) #fit regression\n",
    "    h_pn=train_wiener_filter(X_pn, Y_pn, c=c,sw=sws, display=False) #fit regression\n",
    "    \n",
    "    n_rqs.append(session.get_relative_drive(h_n, X_nt, nlags=nlags,\n",
    "                                      num_region1=num_region1))\n",
    "    pn_rqs.append(session.get_relative_drive(h_pn, X_pnt, nlags=nlags,\n",
    "                                       num_region1=num_region1))\n",
    "    \n",
    "    yhat_n = test_wiener_filter(X_nt, h_n)\n",
    "    n_r2s.append(weighted_r2(Y_nt, yhat_n))\n",
    "\n",
    "    yhat_pn = test_wiener_filter(X_pnt, h_pn)\n",
    "    pn_r2s.append(weighted_r2(Y_pnt, yhat_pn))\n",
    "\n"
   ]
  },
  {
   "cell_type": "code",
   "execution_count": null,
   "id": "5f10504c-d0c9-4635-a874-02b4132321dd",
   "metadata": {},
   "outputs": [],
   "source": [
    "## showing top N models"
   ]
  },
  {
   "cell_type": "code",
   "execution_count": null,
   "id": "10f235b9-cdc4-4820-9e3c-a11174545113",
   "metadata": {},
   "outputs": [],
   "source": [
    "fig,ax = plt.subplots()\n",
    "n_rqs_top, n_r2s_top, _, _ = get_top_models(n_rqs, n_r2s, num_bins=12, evenspace=True) #get top models for visualization purposes\n",
    "ax.set_title('N models')\n",
    "ax.scatter(n_rqs_top, n_r2s_top, color='black')\n",
    "ax.set_xlabel('rq')\n",
    "ax.set_ylabel('weighted_r2')\n",
    "ax.set_ylim(.15,.35)\n"
   ]
  },
  {
   "cell_type": "code",
   "execution_count": null,
   "id": "464eb572-1377-4ce9-8531-15a163c75a54",
   "metadata": {},
   "outputs": [],
   "source": [
    "## showing top PN models"
   ]
  },
  {
   "cell_type": "code",
   "execution_count": null,
   "id": "c12d85d3-99e4-4154-99c8-dd10f83269c3",
   "metadata": {},
   "outputs": [],
   "source": [
    "fig,ax = plt.subplots()\n",
    "pn_rqs_top, pn_r2s_top, _, _ = get_top_models(pn_rqs, pn_r2s, num_bins=12, evenspace=True) #get top models for visualization purposes\n",
    "ax.scatter(pn_rqs_top, pn_r2s_top, color='tab:blue')\n",
    "ax.set_title('PN models')\n",
    "ax.set_xlabel('rq')\n",
    "ax.set_ylabel('weighted_r2')\n",
    "ax.set_ylim(.15,.35)"
   ]
  },
  {
   "cell_type": "markdown",
   "id": "06caa3f2-9c5f-4d13-825c-ece837b7a96b",
   "metadata": {},
   "source": [
    "# Linear Regularization Sweep, Simulated Data"
   ]
  },
  {
   "cell_type": "code",
   "execution_count": null,
   "id": "b6ed058f-efa0-4b36-b9c4-97bf4791b6d8",
   "metadata": {},
   "outputs": [],
   "source": [
    "session = pload('data/cu9_sim_LinModel.pickle') #lin model on sim data\n",
    "true_rnn = CurbdModel(pload('data/cu9_rnn.pickle')) #true RNN, needed for true RQ"
   ]
  },
  {
   "cell_type": "markdown",
   "id": "e5ab972b-8a46-41cf-9602-a50c37c53eb6",
   "metadata": {},
   "source": [
    "## segment data and generate train/test sets"
   ]
  },
  {
   "cell_type": "code",
   "execution_count": null,
   "id": "19ccb38a-460a-4f1d-9616-5d9563105461",
   "metadata": {},
   "outputs": [],
   "source": [
    "post=45\n",
    "binsize=10\n",
    "nlags=5\n",
    "pre=binsize*nlags\n",
    "num_PCs=20\n",
    "sw_weight=50\n",
    "\n",
    "random_state=1\n",
    "rng = np.random.default_rng(random_state)\n",
    "\n",
    "if num_PCs is None:\n",
    "    num_region1 = session.num_region1\n",
    "else:\n",
    "    num_region1 = num_PCs\n",
    "\n",
    "\n",
    "laser_bounds, ctrl_bounds = session.adjustLaserBounds(pre=pre, post=post)\n",
    "train_lasers, test_lasers = train_test_split(laser_bounds, train_size=.8,\n",
    "        random_state=random_state)\n",
    "omit_lasers, _ = session.adjustLaserBounds(pre=0, post=300)\n",
    "temp_mask = rng.choice(len(ctrl_bounds), len(test_lasers), replace=False)\n",
    "ctrl_bounds_subsamp = ctrl_bounds[temp_mask, :]\n",
    "both_bounds = np.vstack((test_lasers, ctrl_bounds_subsamp))\n",
    "train_lasers = np.sort(train_lasers, axis=0)\n",
    "test_lasers = np.sort(test_lasers, axis=0)\n",
    "both_bounds = np.sort(both_bounds, axis=0)\n",
    "omitLaserBounds= omitBoundInBounds(session.climbing_bounds, test_lasers)\n",
    "omitLaserBounds = omitBoundInBounds(omitLaserBounds, ctrl_bounds)\n",
    "omitLaserBounds = minimumBoundSize(omitLaserBounds, min_size = post+pre) #segments for PN models\n",
    "justClimbs = omitBoundInBounds(session.climbing_bounds, omit_lasers)\n",
    "justClimbs = omitBoundInBounds(justClimbs, ctrl_bounds)\n",
    "justClimbs = minimumBoundSize(justClimbs, min_size=post+pre) #segments for N models\n",
    "\n",
    "sws = session.getSWs(bigBound=omitLaserBounds, smallBound=train_lasers,\n",
    "        sw_weight=sw_weight, binsize=binsize, nlags=nlags)\n",
    "\n",
    "(X_n, Y_n), n_PCs = session.generate_trainset(justClimbs, binsize=binsize,\n",
    "        nlags=nlags, num_PCs=num_PCs)\n",
    "\n",
    "(X_pn, Y_pn), pn_PCs = session.generate_trainset(omitLaserBounds, binsize=binsize,\n",
    "        nlags=nlags, num_PCs=num_PCs)\n",
    "\n",
    "d, u, decay = true_rnn.relative_J(bounds=both_bounds, binsize=binsize, nlags=nlags)\n",
    "pn_true_rq = np.log10((d+decay)/u)\n",
    "d, u, decay = true_rnn.relative_J(bounds=ctrl_bounds, binsize=binsize, nlags=nlags)\n",
    "n_true_rq = np.log10((d+decay)/u)\n",
    "\n",
    "\n",
    "X_nt, Y_nt = session.generate_testset(bounds=ctrl_bounds, binsize=binsize,\n",
    "    nlags=nlags, PCAObjs = n_PCs)\n",
    "X_pnt, Y_pnt = session.generate_testset(bounds=both_bounds, binsize=binsize,\n",
    "    nlags=nlags, PCAObjs = pn_PCs)"
   ]
  },
  {
   "cell_type": "markdown",
   "id": "7ce9dd7e-014c-4917-981b-a668148595f2",
   "metadata": {},
   "source": [
    "## run sweep"
   ]
  },
  {
   "cell_type": "code",
   "execution_count": null,
   "id": "b39d1f98-2ca6-41c6-ab01-576a068cd112",
   "metadata": {},
   "outputs": [],
   "source": [
    "ustream = np.logspace(4,8,8)\n",
    "dstream = np.logspace(4,8,8)\n",
    "reg_combos = list(product(dstream, ustream))\n",
    "\n",
    "n_rqs=[]\n",
    "n_r2s=[]\n",
    "\n",
    "pn_rqs=[]\n",
    "pn_r2s=[]\n",
    "for reg in tqdm(reg_combos):\n",
    "    c = generate_sepreg(reg, X_n, nlags=nlags, num_region1=num_region1)\n",
    "    h_n = train_wiener_filter(X_n, Y_n, c=c,sw=None, display=False) #fit regression\n",
    "    h_pn=train_wiener_filter(X_pn, Y_pn, c=c,sw=sws, display=False) #fit regression\n",
    "    \n",
    "    n_rqs.append(session.get_relative_drive(h_n, X_nt, nlags=nlags,\n",
    "                                      num_region1=num_region1))\n",
    "    pn_rqs.append(session.get_relative_drive(h_pn, X_pnt, nlags=nlags,\n",
    "                                       num_region1=num_region1))\n",
    "    \n",
    "    yhat_n = test_wiener_filter(X_nt, h_n)\n",
    "    n_r2s.append(weighted_r2(Y_nt, yhat_n))\n",
    "\n",
    "    yhat_pn = test_wiener_filter(X_pnt, h_pn)\n",
    "    pn_r2s.append(weighted_r2(Y_pnt, yhat_pn))"
   ]
  },
  {
   "cell_type": "markdown",
   "id": "0afbd04f-00bb-4fd1-a701-8aff6c22ebd9",
   "metadata": {},
   "source": [
    "## showing top N (sim) models"
   ]
  },
  {
   "cell_type": "code",
   "execution_count": null,
   "id": "9c07952a-1071-459b-ae0f-a7d7e836ca8c",
   "metadata": {},
   "outputs": [],
   "source": [
    "fig,ax = plt.subplots()\n",
    "ax.set_title('N models (sim data)')\n",
    "n_rqs_top, n_r2s_top, _, _ = get_top_models(n_rqs, n_r2s, num_bins=12, evenspace=True) #get top models for visualization purposes\n",
    "ax.scatter(n_rqs_top, n_r2s_top, color='black')\n",
    "ax.set_xlabel('rq')\n",
    "ax.set_ylabel('weighted_r2')\n",
    "ax.axvline(n_true_rq, linestyle='--', color='tab:red', label='true RQ')\n",
    "ax.set_ylim(.2,.7)\n",
    "ax.legend()"
   ]
  },
  {
   "cell_type": "markdown",
   "id": "1e6af639-9454-46cd-9313-3657af55173e",
   "metadata": {},
   "source": [
    "## showing top PN (sim) models"
   ]
  },
  {
   "cell_type": "code",
   "execution_count": null,
   "id": "7c65b2d7-161c-4227-a456-034a18675d7d",
   "metadata": {},
   "outputs": [],
   "source": [
    "fig,ax = plt.subplots()\n",
    "pn_rqs_top, pn_r2s_top, _, _ = get_top_models(pn_rqs, pn_r2s, num_bins=12, evenspace=True) #get top models for visualization purposes\n",
    "ax.set_title('PN models (sim data)')\n",
    "ax.scatter(pn_rqs_top, pn_r2s_top, color='tab:blue')\n",
    "ax.set_xlabel('rq')\n",
    "ax.set_ylabel('weighted_r2')\n",
    "ax.axvline(pn_true_rq, linestyle='--', color='tab:red', label='true RQ')\n",
    "ax.set_ylim(.2,.7)\n",
    "ax.legend()"
   ]
  }
 ],
 "metadata": {
  "kernelspec": {
   "display_name": "Python 3",
   "language": "python",
   "name": "python3"
  },
  "language_info": {
   "codemirror_mode": {
    "name": "ipython",
    "version": 3
   },
   "file_extension": ".py",
   "mimetype": "text/x-python",
   "name": "python",
   "nbconvert_exporter": "python",
   "pygments_lexer": "ipython3",
   "version": "3.8.20"
  }
 },
 "nbformat": 4,
 "nbformat_minor": 5
}
